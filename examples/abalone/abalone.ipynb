{
 "cells": [
  {
   "cell_type": "markdown",
   "metadata": {},
   "source": [
    "# Abalone\n",
    "\n",
    "In this example, we'll demonstrate how to use [dataduit](https://github.com/JackBurdick/dataduit) to create tensorflow datasets from a pandas dataframe by specifying a config file.\n",
    "\n",
    "We'll then demonstrate how to use yeahml to create/build/evaluate a model on the created data.\n",
    "\n",
    "#### Note:\n",
    "> The model for this project likely doesn't make sense. I am not personally familiar with the dataset/problem, I was interested showing an example"
   ]
  },
  {
   "cell_type": "code",
   "execution_count": 1,
   "metadata": {},
   "outputs": [
    {
     "data": {
      "application/javascript": [
       "\n",
       "            setTimeout(function() {\n",
       "                var nbb_cell_id = 1;\n",
       "                var nbb_unformatted_code = \"%load_ext autoreload\\n%autoreload 2\\n%load_ext nb_black\";\n",
       "                var nbb_formatted_code = \"%load_ext autoreload\\n%autoreload 2\\n%load_ext nb_black\";\n",
       "                var nbb_cells = Jupyter.notebook.get_cells();\n",
       "                for (var i = 0; i < nbb_cells.length; ++i) {\n",
       "                    if (nbb_cells[i].input_prompt_number == nbb_cell_id) {\n",
       "                        if (nbb_cells[i].get_text() == nbb_unformatted_code) {\n",
       "                             nbb_cells[i].set_text(nbb_formatted_code);\n",
       "                        }\n",
       "                        break;\n",
       "                    }\n",
       "                }\n",
       "            }, 500);\n",
       "            "
      ],
      "text/plain": [
       "<IPython.core.display.Javascript object>"
      ]
     },
     "metadata": {},
     "output_type": "display_data"
    }
   ],
   "source": [
    "%load_ext autoreload\n",
    "%autoreload 2\n",
    "%load_ext nb_black"
   ]
  },
  {
   "cell_type": "code",
   "execution_count": 2,
   "metadata": {
    "scrolled": false
   },
   "outputs": [
    {
     "data": {
      "application/javascript": [
       "\n",
       "            setTimeout(function() {\n",
       "                var nbb_cell_id = 2;\n",
       "                var nbb_unformatted_code = \"import pandas as pd\\nimport tensorflow as tf\\nimport dataduit as dd\\nimport yeahml as yml\\nimport matplotlib.pyplot as plt\";\n",
       "                var nbb_formatted_code = \"import pandas as pd\\nimport tensorflow as tf\\nimport dataduit as dd\\nimport yeahml as yml\\nimport matplotlib.pyplot as plt\";\n",
       "                var nbb_cells = Jupyter.notebook.get_cells();\n",
       "                for (var i = 0; i < nbb_cells.length; ++i) {\n",
       "                    if (nbb_cells[i].input_prompt_number == nbb_cell_id) {\n",
       "                        if (nbb_cells[i].get_text() == nbb_unformatted_code) {\n",
       "                             nbb_cells[i].set_text(nbb_formatted_code);\n",
       "                        }\n",
       "                        break;\n",
       "                    }\n",
       "                }\n",
       "            }, 500);\n",
       "            "
      ],
      "text/plain": [
       "<IPython.core.display.Javascript object>"
      ]
     },
     "metadata": {},
     "output_type": "display_data"
    }
   ],
   "source": [
    "import pandas as pd\n",
    "import tensorflow as tf\n",
    "import dataduit as dd\n",
    "import yeahml as yml\n",
    "import matplotlib.pyplot as plt"
   ]
  },
  {
   "cell_type": "markdown",
   "metadata": {},
   "source": [
    "## Create Datasets"
   ]
  },
  {
   "cell_type": "code",
   "execution_count": 3,
   "metadata": {},
   "outputs": [
    {
     "data": {
      "application/javascript": [
       "\n",
       "            setTimeout(function() {\n",
       "                var nbb_cell_id = 3;\n",
       "                var nbb_unformatted_code = \"# Reading a file from online\\n# more information can be found here:\\n# > https://archive.ics.uci.edu/ml/machine-learning-databases/abalone/\\nh = [\\n    \\\"sex\\\",\\n    \\\"length\\\",\\n    \\\"diameter\\\",\\n    \\\"height\\\",\\n    \\\"whole_weight\\\",\\n    \\\"shucked_weight\\\",\\n    \\\"viscera_weight\\\",\\n    \\\"shell_weight\\\",\\n    \\\"rings\\\",\\n]\\ndf = pd.read_csv(\\n    \\\"https://archive.ics.uci.edu/ml/machine-learning-databases/abalone/abalone.data\\\",\\n    names=h,\\n)\";\n",
       "                var nbb_formatted_code = \"# Reading a file from online\\n# more information can be found here:\\n# > https://archive.ics.uci.edu/ml/machine-learning-databases/abalone/\\nh = [\\n    \\\"sex\\\",\\n    \\\"length\\\",\\n    \\\"diameter\\\",\\n    \\\"height\\\",\\n    \\\"whole_weight\\\",\\n    \\\"shucked_weight\\\",\\n    \\\"viscera_weight\\\",\\n    \\\"shell_weight\\\",\\n    \\\"rings\\\",\\n]\\ndf = pd.read_csv(\\n    \\\"https://archive.ics.uci.edu/ml/machine-learning-databases/abalone/abalone.data\\\",\\n    names=h,\\n)\";\n",
       "                var nbb_cells = Jupyter.notebook.get_cells();\n",
       "                for (var i = 0; i < nbb_cells.length; ++i) {\n",
       "                    if (nbb_cells[i].input_prompt_number == nbb_cell_id) {\n",
       "                        if (nbb_cells[i].get_text() == nbb_unformatted_code) {\n",
       "                             nbb_cells[i].set_text(nbb_formatted_code);\n",
       "                        }\n",
       "                        break;\n",
       "                    }\n",
       "                }\n",
       "            }, 500);\n",
       "            "
      ],
      "text/plain": [
       "<IPython.core.display.Javascript object>"
      ]
     },
     "metadata": {},
     "output_type": "display_data"
    }
   ],
   "source": [
    "# Reading a file from online\n",
    "# more information can be found here:\n",
    "# > https://archive.ics.uci.edu/ml/machine-learning-databases/abalone/\n",
    "h = [\n",
    "    \"sex\",\n",
    "    \"length\",\n",
    "    \"diameter\",\n",
    "    \"height\",\n",
    "    \"whole_weight\",\n",
    "    \"shucked_weight\",\n",
    "    \"viscera_weight\",\n",
    "    \"shell_weight\",\n",
    "    \"rings\",\n",
    "]\n",
    "df = pd.read_csv(\n",
    "    \"https://archive.ics.uci.edu/ml/machine-learning-databases/abalone/abalone.data\",\n",
    "    names=h,\n",
    ")"
   ]
  },
  {
   "cell_type": "code",
   "execution_count": 4,
   "metadata": {},
   "outputs": [
    {
     "data": {
      "application/javascript": [
       "\n",
       "            setTimeout(function() {\n",
       "                var nbb_cell_id = 4;\n",
       "                var nbb_unformatted_code = \"# only use 2 of the features\\ndd_dict = {\\n    \\\"meta\\\": {\\n        \\\"name\\\": \\\"abalone\\\",\\n        \\\"logging\\\": {\\\"log_stream_level\\\": \\\"INFO\\\"},\\n        \\\"in\\\": {\\\"from\\\": \\\"memory\\\", \\\"type\\\": \\\"pandas\\\"},\\n    },\\n    \\\"read\\\": {\\n        \\\"split_percents\\\": [75, 15, 10],\\n        \\\"split_names\\\": [\\\"train\\\", \\\"val\\\", \\\"test\\\"],\\n        \\\"iterate\\\": {\\n            \\\"return_type\\\": \\\"tuple\\\",\\n            \\\"schema\\\": {\\n                \\\"x\\\": {\\n                    \\\"length\\\": {\\n                        \\\"indicator\\\": \\\"length\\\",\\n                        \\\"datatype\\\": {\\n                            \\\"in\\\": {\\\"options\\\": {\\\"dtype\\\": \\\"float64\\\", \\\"shape\\\": 1}},\\n                            \\\"out\\\": {},\\n                        },\\n                        \\\"special\\\": \\\"decode\\\",\\n                    },\\n                    \\\"diameter\\\": {\\n                        \\\"indicator\\\": \\\"diameter\\\",\\n                        \\\"datatype\\\": {\\n                            \\\"in\\\": {\\\"options\\\": {\\\"dtype\\\": \\\"float64\\\", \\\"shape\\\": 1}},\\n                            \\\"out\\\": {},\\n                        },\\n                        \\\"special\\\": \\\"decode\\\",\\n                    },\\n                },\\n                \\\"y\\\": {\\n                    \\\"rings\\\": {\\n                        \\\"datatype\\\": {\\n                            \\\"in\\\": {\\\"options\\\": {\\\"dtype\\\": \\\"int64\\\", \\\"shape\\\": 1}},\\n                            \\\"out\\\": {},\\n                        }\\n                    }\\n                },\\n            },\\n        },\\n    },\\n}\";\n",
       "                var nbb_formatted_code = \"# only use 2 of the features\\ndd_dict = {\\n    \\\"meta\\\": {\\n        \\\"name\\\": \\\"abalone\\\",\\n        \\\"logging\\\": {\\\"log_stream_level\\\": \\\"INFO\\\"},\\n        \\\"in\\\": {\\\"from\\\": \\\"memory\\\", \\\"type\\\": \\\"pandas\\\"},\\n    },\\n    \\\"read\\\": {\\n        \\\"split_percents\\\": [75, 15, 10],\\n        \\\"split_names\\\": [\\\"train\\\", \\\"val\\\", \\\"test\\\"],\\n        \\\"iterate\\\": {\\n            \\\"return_type\\\": \\\"tuple\\\",\\n            \\\"schema\\\": {\\n                \\\"x\\\": {\\n                    \\\"length\\\": {\\n                        \\\"indicator\\\": \\\"length\\\",\\n                        \\\"datatype\\\": {\\n                            \\\"in\\\": {\\\"options\\\": {\\\"dtype\\\": \\\"float64\\\", \\\"shape\\\": 1}},\\n                            \\\"out\\\": {},\\n                        },\\n                        \\\"special\\\": \\\"decode\\\",\\n                    },\\n                    \\\"diameter\\\": {\\n                        \\\"indicator\\\": \\\"diameter\\\",\\n                        \\\"datatype\\\": {\\n                            \\\"in\\\": {\\\"options\\\": {\\\"dtype\\\": \\\"float64\\\", \\\"shape\\\": 1}},\\n                            \\\"out\\\": {},\\n                        },\\n                        \\\"special\\\": \\\"decode\\\",\\n                    },\\n                },\\n                \\\"y\\\": {\\n                    \\\"rings\\\": {\\n                        \\\"datatype\\\": {\\n                            \\\"in\\\": {\\\"options\\\": {\\\"dtype\\\": \\\"int64\\\", \\\"shape\\\": 1}},\\n                            \\\"out\\\": {},\\n                        }\\n                    }\\n                },\\n            },\\n        },\\n    },\\n}\";\n",
       "                var nbb_cells = Jupyter.notebook.get_cells();\n",
       "                for (var i = 0; i < nbb_cells.length; ++i) {\n",
       "                    if (nbb_cells[i].input_prompt_number == nbb_cell_id) {\n",
       "                        if (nbb_cells[i].get_text() == nbb_unformatted_code) {\n",
       "                             nbb_cells[i].set_text(nbb_formatted_code);\n",
       "                        }\n",
       "                        break;\n",
       "                    }\n",
       "                }\n",
       "            }, 500);\n",
       "            "
      ],
      "text/plain": [
       "<IPython.core.display.Javascript object>"
      ]
     },
     "metadata": {},
     "output_type": "display_data"
    }
   ],
   "source": [
    "# only use 2 of the features\n",
    "dd_dict = {\n",
    "    \"meta\": {\n",
    "        \"name\": \"abalone\",\n",
    "        \"logging\": {\"log_stream_level\": \"INFO\"},\n",
    "        \"in\": {\"from\": \"memory\", \"type\": \"pandas\"},\n",
    "    },\n",
    "    \"read\": {\n",
    "        \"split_percents\": [75, 15, 10],\n",
    "        \"split_names\": [\"train\", \"val\", \"test\"],\n",
    "        \"iterate\": {\n",
    "            \"return_type\": \"tuple\",\n",
    "            \"schema\": {\n",
    "                \"x\": {\n",
    "                    \"length\": {\n",
    "                        \"indicator\": \"length\",\n",
    "                        \"datatype\": {\n",
    "                            \"in\": {\"options\": {\"dtype\": \"float64\", \"shape\": 1}},\n",
    "                            \"out\": {},\n",
    "                        },\n",
    "                        \"special\": \"decode\",\n",
    "                    },\n",
    "                    \"diameter\": {\n",
    "                        \"indicator\": \"diameter\",\n",
    "                        \"datatype\": {\n",
    "                            \"in\": {\"options\": {\"dtype\": \"float64\", \"shape\": 1}},\n",
    "                            \"out\": {},\n",
    "                        },\n",
    "                        \"special\": \"decode\",\n",
    "                    },\n",
    "                },\n",
    "                \"y\": {\n",
    "                    \"rings\": {\n",
    "                        \"datatype\": {\n",
    "                            \"in\": {\"options\": {\"dtype\": \"int64\", \"shape\": 1}},\n",
    "                            \"out\": {},\n",
    "                        }\n",
    "                    }\n",
    "                },\n",
    "            },\n",
    "        },\n",
    "    },\n",
    "}"
   ]
  },
  {
   "cell_type": "code",
   "execution_count": 5,
   "metadata": {},
   "outputs": [
    {
     "data": {
      "application/javascript": [
       "\n",
       "            setTimeout(function() {\n",
       "                var nbb_cell_id = 5;\n",
       "                var nbb_unformatted_code = \"# create the datasets based on the above defined names/splits/specifed data\\nds_dict_raw = dd.read(dd_dict, df)\";\n",
       "                var nbb_formatted_code = \"# create the datasets based on the above defined names/splits/specifed data\\nds_dict_raw = dd.read(dd_dict, df)\";\n",
       "                var nbb_cells = Jupyter.notebook.get_cells();\n",
       "                for (var i = 0; i < nbb_cells.length; ++i) {\n",
       "                    if (nbb_cells[i].input_prompt_number == nbb_cell_id) {\n",
       "                        if (nbb_cells[i].get_text() == nbb_unformatted_code) {\n",
       "                             nbb_cells[i].set_text(nbb_formatted_code);\n",
       "                        }\n",
       "                        break;\n",
       "                    }\n",
       "                }\n",
       "            }, 500);\n",
       "            "
      ],
      "text/plain": [
       "<IPython.core.display.Javascript object>"
      ]
     },
     "metadata": {},
     "output_type": "display_data"
    }
   ],
   "source": [
    "# create the datasets based on the above defined names/splits/specifed data\n",
    "ds_dict_raw = dd.read(dd_dict, df)"
   ]
  },
  {
   "cell_type": "code",
   "execution_count": 6,
   "metadata": {},
   "outputs": [
    {
     "data": {
      "application/javascript": [
       "\n",
       "            setTimeout(function() {\n",
       "                var nbb_cell_id = 6;\n",
       "                var nbb_unformatted_code = \"ds_dict = {\\\"abalone\\\": ds_dict_raw[0]}\";\n",
       "                var nbb_formatted_code = \"ds_dict = {\\\"abalone\\\": ds_dict_raw[0]}\";\n",
       "                var nbb_cells = Jupyter.notebook.get_cells();\n",
       "                for (var i = 0; i < nbb_cells.length; ++i) {\n",
       "                    if (nbb_cells[i].input_prompt_number == nbb_cell_id) {\n",
       "                        if (nbb_cells[i].get_text() == nbb_unformatted_code) {\n",
       "                             nbb_cells[i].set_text(nbb_formatted_code);\n",
       "                        }\n",
       "                        break;\n",
       "                    }\n",
       "                }\n",
       "            }, 500);\n",
       "            "
      ],
      "text/plain": [
       "<IPython.core.display.Javascript object>"
      ]
     },
     "metadata": {},
     "output_type": "display_data"
    }
   ],
   "source": [
    "ds_dict = {\"abalone\": ds_dict_raw[0]}"
   ]
  },
  {
   "cell_type": "markdown",
   "metadata": {},
   "source": [
    "`ds_dict` is a dictionary containing the tensorflow datasets (as specified above). which can be accessed like this:\n",
    "\n",
    "```python\n",
    "ds_val = ds_dict[\"val\"]\n",
    "```"
   ]
  },
  {
   "cell_type": "markdown",
   "metadata": {},
   "source": [
    "## Specify the Model"
   ]
  },
  {
   "cell_type": "code",
   "execution_count": 7,
   "metadata": {
    "scrolled": true
   },
   "outputs": [
    {
     "data": {
      "application/javascript": [
       "\n",
       "            setTimeout(function() {\n",
       "                var nbb_cell_id = 7;\n",
       "                var nbb_unformatted_code = \"# %load_ext autoreload\\n# %autoreload 2\\n# import yeahml as yml\\n# import tensorflow as tf\";\n",
       "                var nbb_formatted_code = \"# %load_ext autoreload\\n# %autoreload 2\\n# import yeahml as yml\\n# import tensorflow as tf\";\n",
       "                var nbb_cells = Jupyter.notebook.get_cells();\n",
       "                for (var i = 0; i < nbb_cells.length; ++i) {\n",
       "                    if (nbb_cells[i].input_prompt_number == nbb_cell_id) {\n",
       "                        if (nbb_cells[i].get_text() == nbb_unformatted_code) {\n",
       "                             nbb_cells[i].set_text(nbb_formatted_code);\n",
       "                        }\n",
       "                        break;\n",
       "                    }\n",
       "                }\n",
       "            }, 500);\n",
       "            "
      ],
      "text/plain": [
       "<IPython.core.display.Javascript object>"
      ]
     },
     "metadata": {},
     "output_type": "display_data"
    }
   ],
   "source": [
    "# %load_ext autoreload\n",
    "# %autoreload 2\n",
    "# import yeahml as yml\n",
    "# import tensorflow as tf"
   ]
  },
  {
   "cell_type": "code",
   "execution_count": 8,
   "metadata": {
    "scrolled": false
   },
   "outputs": [
    {
     "name": "stderr",
     "output_type": "stream",
     "text": [
      "config_logger: WARNING  some keys have not been checked for unparsed keys:\n",
      " - main_config [model][path] = ./model_config.yml\n",
      "\n",
      " This is common when the config contains model:path: <some_path>.yml and means that there could be extra keys in this model config that are not being parsed+used by yeahml. in a future release, this could be addressed by building parsing logic in `src/yeahml/config/create_configs.py`\n"
     ]
    },
    {
     "data": {
      "application/javascript": [
       "\n",
       "            setTimeout(function() {\n",
       "                var nbb_cell_id = 8;\n",
       "                var nbb_unformatted_code = \"example = \\\"./main_config.yml\\\"\\nyml_dict = yml.create_configs(example)\";\n",
       "                var nbb_formatted_code = \"example = \\\"./main_config.yml\\\"\\nyml_dict = yml.create_configs(example)\";\n",
       "                var nbb_cells = Jupyter.notebook.get_cells();\n",
       "                for (var i = 0; i < nbb_cells.length; ++i) {\n",
       "                    if (nbb_cells[i].input_prompt_number == nbb_cell_id) {\n",
       "                        if (nbb_cells[i].get_text() == nbb_unformatted_code) {\n",
       "                             nbb_cells[i].set_text(nbb_formatted_code);\n",
       "                        }\n",
       "                        break;\n",
       "                    }\n",
       "                }\n",
       "            }, 500);\n",
       "            "
      ],
      "text/plain": [
       "<IPython.core.display.Javascript object>"
      ]
     },
     "metadata": {},
     "output_type": "display_data"
    }
   ],
   "source": [
    "example = \"./main_config.yml\"\n",
    "yml_dict = yml.create_configs(example)"
   ]
  },
  {
   "cell_type": "code",
   "execution_count": 9,
   "metadata": {},
   "outputs": [
    {
     "data": {
      "application/javascript": [
       "\n",
       "            setTimeout(function() {\n",
       "                var nbb_cell_id = 9;\n",
       "                var nbb_unformatted_code = \"# yml_dict\";\n",
       "                var nbb_formatted_code = \"# yml_dict\";\n",
       "                var nbb_cells = Jupyter.notebook.get_cells();\n",
       "                for (var i = 0; i < nbb_cells.length; ++i) {\n",
       "                    if (nbb_cells[i].input_prompt_number == nbb_cell_id) {\n",
       "                        if (nbb_cells[i].get_text() == nbb_unformatted_code) {\n",
       "                             nbb_cells[i].set_text(nbb_formatted_code);\n",
       "                        }\n",
       "                        break;\n",
       "                    }\n",
       "                }\n",
       "            }, 500);\n",
       "            "
      ],
      "text/plain": [
       "<IPython.core.display.Javascript object>"
      ]
     },
     "metadata": {},
     "output_type": "display_data"
    }
   ],
   "source": [
    "# yml_dict"
   ]
  },
  {
   "cell_type": "markdown",
   "metadata": {},
   "source": [
    "## Build the model"
   ]
  },
  {
   "cell_type": "code",
   "execution_count": 10,
   "metadata": {
    "scrolled": true
   },
   "outputs": [
    {
     "name": "stderr",
     "output_type": "stream",
     "text": [
      "build_logger: INFO     -> START building graph\n",
      "WARNING: Logging before flag parsing goes to stderr.\n",
      "W0816 20:24:31.714487 140537124058944 base_layer.py:2377] Layer flatten_1 is casting an input tensor from dtype float64 to the layer's dtype of float32, which is new behavior in TensorFlow 2.  The layer has dtype float32 because its dtype defaults to floatx.\n",
      "\n",
      "If you intended to run this layer in float32, you can safely ignore this warning. If in doubt, this warning is likely only an issue if you are porting a TensorFlow 1.X model to TensorFlow 2.\n",
      "\n",
      "To change all layers to have dtype float64 by default, call `tf.keras.backend.set_floatx('float64')`. To change just this layer, pass dtype='float64' to the layer constructor. If you are the author of this layer, you can disable autocasting by passing autocast=False to the base Layer constructor.\n",
      "\n",
      "build_logger: INFO     information json file created\n"
     ]
    },
    {
     "data": {
      "application/javascript": [
       "\n",
       "            setTimeout(function() {\n",
       "                var nbb_cell_id = 10;\n",
       "                var nbb_unformatted_code = \"# If you receive an error:\\n# AttributeError: 'google.protobuf.pyext._message.RepeatedCompositeCo' object has no attribute 'append'\\n# I personally used `pip install -U protobuf=3.8.0` to resolve\\n# per https://github.com/tensorflow/tensorflow/issues/33348\\nmodel = yml.build_model(yml_dict)\";\n",
       "                var nbb_formatted_code = \"# If you receive an error:\\n# AttributeError: 'google.protobuf.pyext._message.RepeatedCompositeCo' object has no attribute 'append'\\n# I personally used `pip install -U protobuf=3.8.0` to resolve\\n# per https://github.com/tensorflow/tensorflow/issues/33348\\nmodel = yml.build_model(yml_dict)\";\n",
       "                var nbb_cells = Jupyter.notebook.get_cells();\n",
       "                for (var i = 0; i < nbb_cells.length; ++i) {\n",
       "                    if (nbb_cells[i].input_prompt_number == nbb_cell_id) {\n",
       "                        if (nbb_cells[i].get_text() == nbb_unformatted_code) {\n",
       "                             nbb_cells[i].set_text(nbb_formatted_code);\n",
       "                        }\n",
       "                        break;\n",
       "                    }\n",
       "                }\n",
       "            }, 500);\n",
       "            "
      ],
      "text/plain": [
       "<IPython.core.display.Javascript object>"
      ]
     },
     "metadata": {},
     "output_type": "display_data"
    }
   ],
   "source": [
    "# If you receive an error:\n",
    "# AttributeError: 'google.protobuf.pyext._message.RepeatedCompositeCo' object has no attribute 'append'\n",
    "# I personally used `pip install -U protobuf=3.8.0` to resolve\n",
    "# per https://github.com/tensorflow/tensorflow/issues/33348\n",
    "model = yml.build_model(yml_dict)"
   ]
  },
  {
   "cell_type": "code",
   "execution_count": 11,
   "metadata": {},
   "outputs": [
    {
     "name": "stdout",
     "output_type": "stream",
     "text": [
      "Model: \"model_a\"\n",
      "__________________________________________________________________________________________________\n",
      "Layer (type)                    Output Shape         Param #     Connected to                     \n",
      "==================================================================================================\n",
      "feature_a (InputLayer)          [(None, 2, 1)]       0                                            \n",
      "__________________________________________________________________________________________________\n",
      "flatten_1 (Flatten)             (None, 2)            0           feature_a[0][0]                  \n",
      "__________________________________________________________________________________________________\n",
      "dense_1 (Dense)                 (None, 16)           48          flatten_1[0][0]                  \n",
      "__________________________________________________________________________________________________\n",
      "dense_2 (Dense)                 (None, 8)            136         dense_1[0][0]                    \n",
      "__________________________________________________________________________________________________\n",
      "dense_2b (Dense)                (None, 8)            136         dense_1[0][0]                    \n",
      "__________________________________________________________________________________________________\n",
      "concat_1 (Concatenate)          (None, 16)           0           dense_2[0][0]                    \n",
      "                                                                 dense_2b[0][0]                   \n",
      "__________________________________________________________________________________________________\n",
      "dense_3a (Dense)                (None, 8)            136         concat_1[0][0]                   \n",
      "__________________________________________________________________________________________________\n",
      "dense_3b (Dense)                (None, 8)            72          dense_2[0][0]                    \n",
      "__________________________________________________________________________________________________\n",
      "concat_3 (Concatenate)          (None, 16)           0           dense_3a[0][0]                   \n",
      "                                                                 dense_3b[0][0]                   \n",
      "__________________________________________________________________________________________________\n",
      "dense_out (Dense)               (None, 1)            17          concat_3[0][0]                   \n",
      "__________________________________________________________________________________________________\n",
      "reshape_out (Reshape)           (None, 1, 1)         0           dense_out[0][0]                  \n",
      "==================================================================================================\n",
      "Total params: 545\n",
      "Trainable params: 545\n",
      "Non-trainable params: 0\n",
      "__________________________________________________________________________________________________\n"
     ]
    },
    {
     "data": {
      "application/javascript": [
       "\n",
       "            setTimeout(function() {\n",
       "                var nbb_cell_id = 11;\n",
       "                var nbb_unformatted_code = \"model.summary()\";\n",
       "                var nbb_formatted_code = \"model.summary()\";\n",
       "                var nbb_cells = Jupyter.notebook.get_cells();\n",
       "                for (var i = 0; i < nbb_cells.length; ++i) {\n",
       "                    if (nbb_cells[i].input_prompt_number == nbb_cell_id) {\n",
       "                        if (nbb_cells[i].get_text() == nbb_unformatted_code) {\n",
       "                             nbb_cells[i].set_text(nbb_formatted_code);\n",
       "                        }\n",
       "                        break;\n",
       "                    }\n",
       "                }\n",
       "            }, 500);\n",
       "            "
      ],
      "text/plain": [
       "<IPython.core.display.Javascript object>"
      ]
     },
     "metadata": {},
     "output_type": "display_data"
    }
   ],
   "source": [
    "model.summary()"
   ]
  },
  {
   "cell_type": "markdown",
   "metadata": {},
   "source": [
    "## Train the Model\n",
    "\n",
    "Notice here that we're using the created training and validation sets from `ds_dict`"
   ]
  },
  {
   "cell_type": "code",
   "execution_count": 12,
   "metadata": {},
   "outputs": [
    {
     "data": {
      "application/javascript": [
       "\n",
       "            setTimeout(function() {\n",
       "                var nbb_cell_id = 12;\n",
       "                var nbb_unformatted_code = \"# a = ds_dict[\\\"abalone\\\"]['train']\\n# print(a)\";\n",
       "                var nbb_formatted_code = \"# a = ds_dict[\\\"abalone\\\"]['train']\\n# print(a)\";\n",
       "                var nbb_cells = Jupyter.notebook.get_cells();\n",
       "                for (var i = 0; i < nbb_cells.length; ++i) {\n",
       "                    if (nbb_cells[i].input_prompt_number == nbb_cell_id) {\n",
       "                        if (nbb_cells[i].get_text() == nbb_unformatted_code) {\n",
       "                             nbb_cells[i].set_text(nbb_formatted_code);\n",
       "                        }\n",
       "                        break;\n",
       "                    }\n",
       "                }\n",
       "            }, 500);\n",
       "            "
      ],
      "text/plain": [
       "<IPython.core.display.Javascript object>"
      ]
     },
     "metadata": {},
     "output_type": "display_data"
    }
   ],
   "source": [
    "# a = ds_dict[\"abalone\"]['train']\n",
    "# print(a)"
   ]
  },
  {
   "cell_type": "code",
   "execution_count": 13,
   "metadata": {},
   "outputs": [
    {
     "data": {
      "application/javascript": [
       "\n",
       "            setTimeout(function() {\n",
       "                var nbb_cell_id = 13;\n",
       "                var nbb_unformatted_code = \"# import pprint\\n# pprint.pprint(yml_dict['optimize'])\\n# print(\\\"--\\\")\\n# pprint.pprint(yml_dict['performance'])\\n# ds_dict = {\\n#     \\\"abalone\\\": {\\n#         \\\"train\\\": tf.data.Dataset.from_tensor_slices([1, 2, 3]),\\n#         \\\"val\\\": tf.data.Dataset.from_tensor_slices([1, 2, 3]),\\n#     }\\n# }\";\n",
       "                var nbb_formatted_code = \"# import pprint\\n# pprint.pprint(yml_dict['optimize'])\\n# print(\\\"--\\\")\\n# pprint.pprint(yml_dict['performance'])\\n# ds_dict = {\\n#     \\\"abalone\\\": {\\n#         \\\"train\\\": tf.data.Dataset.from_tensor_slices([1, 2, 3]),\\n#         \\\"val\\\": tf.data.Dataset.from_tensor_slices([1, 2, 3]),\\n#     }\\n# }\";\n",
       "                var nbb_cells = Jupyter.notebook.get_cells();\n",
       "                for (var i = 0; i < nbb_cells.length; ++i) {\n",
       "                    if (nbb_cells[i].input_prompt_number == nbb_cell_id) {\n",
       "                        if (nbb_cells[i].get_text() == nbb_unformatted_code) {\n",
       "                             nbb_cells[i].set_text(nbb_formatted_code);\n",
       "                        }\n",
       "                        break;\n",
       "                    }\n",
       "                }\n",
       "            }, 500);\n",
       "            "
      ],
      "text/plain": [
       "<IPython.core.display.Javascript object>"
      ]
     },
     "metadata": {},
     "output_type": "display_data"
    }
   ],
   "source": [
    "# import pprint\n",
    "# pprint.pprint(yml_dict['optimize'])\n",
    "# print(\"--\")\n",
    "# pprint.pprint(yml_dict['performance'])\n",
    "# ds_dict = {\n",
    "#     \"abalone\": {\n",
    "#         \"train\": tf.data.Dataset.from_tensor_slices([1, 2, 3]),\n",
    "#         \"val\": tf.data.Dataset.from_tensor_slices([1, 2, 3]),\n",
    "#     }\n",
    "# }"
   ]
  },
  {
   "cell_type": "code",
   "execution_count": 14,
   "metadata": {},
   "outputs": [
    {
     "data": {
      "text/plain": [
       "{'abalone': {'train': <MapDataset shapes: ((2, 1), (1, 1)), types: (tf.float64, tf.int64)>,\n",
       "  'val': <MapDataset shapes: ((2, 1), (1, 1)), types: (tf.float64, tf.int64)>,\n",
       "  'test': <MapDataset shapes: ((2, 1), (1, 1)), types: (tf.float64, tf.int64)>}}"
      ]
     },
     "execution_count": 14,
     "metadata": {},
     "output_type": "execute_result"
    },
    {
     "data": {
      "application/javascript": [
       "\n",
       "            setTimeout(function() {\n",
       "                var nbb_cell_id = 14;\n",
       "                var nbb_unformatted_code = \"ds_dict\";\n",
       "                var nbb_formatted_code = \"ds_dict\";\n",
       "                var nbb_cells = Jupyter.notebook.get_cells();\n",
       "                for (var i = 0; i < nbb_cells.length; ++i) {\n",
       "                    if (nbb_cells[i].input_prompt_number == nbb_cell_id) {\n",
       "                        if (nbb_cells[i].get_text() == nbb_unformatted_code) {\n",
       "                             nbb_cells[i].set_text(nbb_formatted_code);\n",
       "                        }\n",
       "                        break;\n",
       "                    }\n",
       "                }\n",
       "            }, 500);\n",
       "            "
      ],
      "text/plain": [
       "<IPython.core.display.Javascript object>"
      ]
     },
     "metadata": {},
     "output_type": "display_data"
    }
   ],
   "source": [
    "ds_dict"
   ]
  },
  {
   "cell_type": "code",
   "execution_count": 15,
   "metadata": {
    "scrolled": true
   },
   "outputs": [
    {
     "name": "stderr",
     "output_type": "stream",
     "text": [
      "train_logger: INFO     START - training\n",
      "train_logger: INFO     optimizer: second_opt\n",
      "train_logger: INFO     objective: second_obj\n",
      "train_logger: INFO     epoch second_obj - abalone train: 1\n",
      "train_logger: INFO     done inference on val - 3120\n",
      "train_logger: INFO     optimizer: main_opt\n",
      "train_logger: INFO     objective: main_obj\n",
      "train_logger: INFO     epoch main_obj - abalone train: 1\n",
      "train_logger: INFO     done inference on val - 3120\n",
      "train_logger: INFO     optimizer: main_opt\n",
      "train_logger: INFO     objective: main_obj\n",
      "train_logger: INFO     epoch main_obj - abalone train: 2\n",
      "train_logger: INFO     done inference on val - 6240\n",
      "train_logger: INFO     optimizer: main_opt\n",
      "train_logger: INFO     objective: main_obj\n",
      "train_logger: INFO     epoch main_obj - abalone train: 3\n",
      "train_logger: INFO     done inference on val - 9360\n",
      "train_logger: INFO     optimizer: second_opt\n",
      "train_logger: INFO     objective: second_obj\n",
      "train_logger: INFO     epoch second_obj - abalone train: 2\n",
      "train_logger: INFO     done inference on val - 6240\n",
      "train_logger: INFO     optimizer: main_opt\n",
      "train_logger: INFO     objective: main_obj\n",
      "train_logger: INFO     epoch main_obj - abalone train: 4\n",
      "train_logger: INFO     done inference on val - 12480\n",
      "train_logger: INFO     optimizer: main_opt\n",
      "train_logger: INFO     objective: main_obj\n",
      "train_logger: INFO     epoch main_obj - abalone train: 5\n",
      "train_logger: INFO     done inference on val - 15600\n",
      "train_logger: INFO     optimizer: main_opt\n",
      "train_logger: INFO     objective: main_obj\n",
      "train_logger: INFO     epoch main_obj - abalone train: 6\n",
      "train_logger: INFO     done inference on val - 18720\n",
      "train_logger: INFO     optimizer: main_opt\n",
      "train_logger: INFO     objective: main_obj\n",
      "train_logger: INFO     epoch main_obj - abalone train: 7\n",
      "train_logger: INFO     done inference on val - 21840\n",
      "train_logger: INFO     optimizer: main_opt\n",
      "train_logger: INFO     objective: main_obj\n",
      "train_logger: INFO     epoch main_obj - abalone train: 8\n",
      "train_logger: INFO     done inference on val - 24960\n",
      "train_logger: INFO     optimizer: main_opt\n",
      "train_logger: INFO     objective: main_obj\n",
      "train_logger: INFO     epoch main_obj - abalone train: 9\n",
      "train_logger: INFO     done inference on val - 28080\n",
      "train_logger: INFO     optimizer: main_opt\n",
      "train_logger: INFO     objective: main_obj\n",
      "train_logger: INFO     epoch main_obj - abalone train: 10\n",
      "train_logger: INFO     done inference on val - 31200\n",
      "train_logger: INFO     optimizer: main_opt\n",
      "train_logger: INFO     objective: main_obj\n",
      "train_logger: INFO     epoch main_obj - abalone train: 11\n",
      "train_logger: INFO     done inference on val - 34320\n",
      "train_logger: INFO     optimizer: main_opt\n",
      "train_logger: INFO     objective: main_obj\n",
      "train_logger: INFO     epoch main_obj - abalone train: 12\n",
      "train_logger: INFO     done inference on val - 37440\n",
      "train_logger: INFO     optimizer: main_opt\n",
      "train_logger: INFO     objective: main_obj\n",
      "train_logger: INFO     epoch main_obj - abalone train: 13\n",
      "train_logger: INFO     done inference on val - 40560\n",
      "train_logger: INFO     optimizer: main_opt\n",
      "train_logger: INFO     objective: main_obj\n",
      "train_logger: INFO     epoch main_obj - abalone train: 14\n",
      "train_logger: INFO     done inference on val - 43680\n",
      "train_logger: INFO     optimizer: main_opt\n",
      "train_logger: INFO     objective: main_obj\n",
      "train_logger: INFO     epoch main_obj - abalone train: 15\n",
      "train_logger: INFO     done inference on val - 46800\n",
      "train_logger: INFO     optimizer: second_opt\n",
      "train_logger: INFO     objective: second_obj\n",
      "train_logger: INFO     epoch second_obj - abalone train: 3\n",
      "train_logger: INFO     done inference on val - 9360\n",
      "train_logger: INFO     optimizer: second_opt\n",
      "train_logger: INFO     objective: second_obj\n",
      "train_logger: INFO     epoch second_obj - abalone train: 4\n",
      "train_logger: INFO     done inference on val - 12480\n",
      "train_logger: INFO     optimizer: main_opt\n",
      "train_logger: INFO     objective: main_obj\n",
      "train_logger: INFO     epoch main_obj - abalone train: 16\n",
      "train_logger: INFO     done inference on val - 49920\n",
      "train_logger: INFO     optimizer: main_opt\n",
      "train_logger: INFO     objective: main_obj\n",
      "train_logger: INFO     epoch main_obj - abalone train: 17\n",
      "train_logger: INFO     done inference on val - 53040\n",
      "train_logger: INFO     optimizer: main_opt\n",
      "train_logger: INFO     objective: main_obj\n",
      "train_logger: INFO     epoch main_obj - abalone train: 18\n",
      "train_logger: INFO     done inference on val - 56160\n",
      "train_logger: INFO     optimizer: second_opt\n",
      "train_logger: INFO     objective: second_obj\n",
      "train_logger: INFO     epoch second_obj - abalone train: 5\n",
      "train_logger: INFO     done inference on val - 15600\n",
      "train_logger: INFO     optimizer: second_opt\n",
      "train_logger: INFO     objective: second_obj\n",
      "train_logger: INFO     epoch second_obj - abalone train: 6\n",
      "train_logger: INFO     done inference on val - 18720\n",
      "train_logger: INFO     optimizer: main_opt\n",
      "train_logger: INFO     objective: main_obj\n",
      "train_logger: INFO     epoch main_obj - abalone train: 19\n",
      "train_logger: INFO     done inference on val - 59280\n",
      "train_logger: INFO     optimizer: second_opt\n",
      "train_logger: INFO     objective: second_obj\n",
      "train_logger: INFO     epoch second_obj - abalone train: 7\n",
      "train_logger: INFO     done inference on val - 21840\n",
      "train_logger: INFO     optimizer: second_opt\n",
      "train_logger: INFO     objective: second_obj\n",
      "train_logger: INFO     epoch second_obj - abalone train: 8\n",
      "train_logger: INFO     done inference on val - 24960\n",
      "train_logger: INFO     optimizer: main_opt\n",
      "train_logger: INFO     objective: main_obj\n",
      "train_logger: INFO     main_opt removed from list of opt. remaining: ['second_opt']\n",
      "train_logger: INFO     is_training: True\n",
      "train_logger: INFO     epoch main_obj - abalone train: 20\n",
      "train_logger: INFO     done inference on val - 62400\n",
      "train_logger: INFO     optimizer: second_opt\n",
      "train_logger: INFO     objective: second_obj\n",
      "train_logger: INFO     epoch second_obj - abalone train: 9\n",
      "train_logger: INFO     done inference on val - 28080\n",
      "train_logger: INFO     optimizer: second_opt\n",
      "train_logger: INFO     objective: second_obj\n",
      "train_logger: INFO     epoch second_obj - abalone train: 10\n",
      "train_logger: INFO     done inference on val - 31200\n",
      "train_logger: INFO     optimizer: second_opt\n",
      "train_logger: INFO     objective: second_obj\n",
      "train_logger: INFO     epoch second_obj - abalone train: 11\n",
      "train_logger: INFO     done inference on val - 34320\n",
      "train_logger: INFO     optimizer: second_opt\n",
      "train_logger: INFO     objective: second_obj\n",
      "train_logger: INFO     epoch second_obj - abalone train: 12\n",
      "train_logger: INFO     done inference on val - 37440\n",
      "train_logger: INFO     optimizer: second_opt\n",
      "train_logger: INFO     objective: second_obj\n",
      "train_logger: INFO     epoch second_obj - abalone train: 13\n",
      "train_logger: INFO     done inference on val - 40560\n",
      "train_logger: INFO     optimizer: second_opt\n",
      "train_logger: INFO     objective: second_obj\n",
      "train_logger: INFO     epoch second_obj - abalone train: 14\n",
      "train_logger: INFO     done inference on val - 43680\n",
      "train_logger: INFO     optimizer: second_opt\n",
      "train_logger: INFO     objective: second_obj\n",
      "train_logger: INFO     epoch second_obj - abalone train: 15\n",
      "train_logger: INFO     done inference on val - 46800\n",
      "train_logger: INFO     optimizer: second_opt\n",
      "train_logger: INFO     objective: second_obj\n",
      "train_logger: INFO     epoch second_obj - abalone train: 16\n",
      "train_logger: INFO     done inference on val - 49920\n",
      "train_logger: INFO     optimizer: second_opt\n",
      "train_logger: INFO     objective: second_obj\n",
      "train_logger: INFO     epoch second_obj - abalone train: 17\n",
      "train_logger: INFO     done inference on val - 53040\n",
      "train_logger: INFO     optimizer: second_opt\n",
      "train_logger: INFO     objective: second_obj\n",
      "train_logger: INFO     epoch second_obj - abalone train: 18\n",
      "train_logger: INFO     done inference on val - 56160\n",
      "train_logger: INFO     optimizer: second_opt\n",
      "train_logger: INFO     objective: second_obj\n",
      "train_logger: INFO     epoch second_obj - abalone train: 19\n",
      "train_logger: INFO     done inference on val - 59280\n",
      "train_logger: INFO     optimizer: second_opt\n",
      "train_logger: INFO     objective: second_obj\n",
      "train_logger: INFO     second_opt removed from list of opt. remaining: []\n",
      "train_logger: INFO     is_training: False\n",
      "train_logger: INFO     epoch second_obj - abalone train: 20\n"
     ]
    },
    {
     "name": "stderr",
     "output_type": "stream",
     "text": [
      "train_logger: INFO     done inference on val - 62400\n"
     ]
    },
    {
     "data": {
      "application/javascript": [
       "\n",
       "            setTimeout(function() {\n",
       "                var nbb_cell_id = 15;\n",
       "                var nbb_unformatted_code = \"train_dict = yml.train_model(model, yml_dict, ds_dict)\";\n",
       "                var nbb_formatted_code = \"train_dict = yml.train_model(model, yml_dict, ds_dict)\";\n",
       "                var nbb_cells = Jupyter.notebook.get_cells();\n",
       "                for (var i = 0; i < nbb_cells.length; ++i) {\n",
       "                    if (nbb_cells[i].input_prompt_number == nbb_cell_id) {\n",
       "                        if (nbb_cells[i].get_text() == nbb_unformatted_code) {\n",
       "                             nbb_cells[i].set_text(nbb_formatted_code);\n",
       "                        }\n",
       "                        break;\n",
       "                    }\n",
       "                }\n",
       "            }, 500);\n",
       "            "
      ],
      "text/plain": [
       "<IPython.core.display.Javascript object>"
      ]
     },
     "metadata": {},
     "output_type": "display_data"
    }
   ],
   "source": [
    "train_dict = yml.train_model(model, yml_dict, ds_dict)"
   ]
  },
  {
   "cell_type": "code",
   "execution_count": 16,
   "metadata": {
    "scrolled": true
   },
   "outputs": [
    {
     "data": {
      "image/png": "[encoded data removed]",
      "text/plain": [
       "<Figure size 1152x576 with 1 Axes>"
      ]
     },
     "metadata": {
      "needs_background": "light"
     },
     "output_type": "display_data"
    },
    {
     "data": {
      "image/png": "[encoded data removed]",
      "text/plain": [
       "<Figure size 1152x576 with 1 Axes>"
      ]
     },
     "metadata": {
      "needs_background": "light"
     },
     "output_type": "display_data"
    },
    {
     "data": {
      "application/javascript": [
       "\n",
       "            setTimeout(function() {\n",
       "                var nbb_cell_id = 16;\n",
       "                var nbb_unformatted_code = \"yml.basic_plot_tracker(\\n    train_dict[\\\"tracker\\\"],\\n    skip=8,\\n    metrics=True,\\n    local=False,\\n    training=True,\\n    validation=False,\\n    loss=True,\\n    size=(16, 8),\\n)\";\n",
       "                var nbb_formatted_code = \"yml.basic_plot_tracker(\\n    train_dict[\\\"tracker\\\"],\\n    skip=8,\\n    metrics=True,\\n    local=False,\\n    training=True,\\n    validation=False,\\n    loss=True,\\n    size=(16, 8),\\n)\";\n",
       "                var nbb_cells = Jupyter.notebook.get_cells();\n",
       "                for (var i = 0; i < nbb_cells.length; ++i) {\n",
       "                    if (nbb_cells[i].input_prompt_number == nbb_cell_id) {\n",
       "                        if (nbb_cells[i].get_text() == nbb_unformatted_code) {\n",
       "                             nbb_cells[i].set_text(nbb_formatted_code);\n",
       "                        }\n",
       "                        break;\n",
       "                    }\n",
       "                }\n",
       "            }, 500);\n",
       "            "
      ],
      "text/plain": [
       "<IPython.core.display.Javascript object>"
      ]
     },
     "metadata": {},
     "output_type": "display_data"
    }
   ],
   "source": [
    "yml.basic_plot_tracker(\n",
    "    train_dict[\"tracker\"],\n",
    "    skip=8,\n",
    "    metrics=True,\n",
    "    local=False,\n",
    "    training=True,\n",
    "    validation=False,\n",
    "    loss=True,\n",
    "    size=(16, 8),\n",
    ")"
   ]
  },
  {
   "cell_type": "markdown",
   "metadata": {},
   "source": [
    "## Evaluate the Model"
   ]
  },
  {
   "cell_type": "code",
   "execution_count": 17,
   "metadata": {
    "scrolled": true
   },
   "outputs": [
    {
     "name": "stderr",
     "output_type": "stream",
     "text": [
      "eval_logger : INFO     START - evaluating\n",
      "eval_logger : INFO     current dataset: abalone\n",
      "eval_logger : INFO     in_hash: -7842518628279595563\n",
      "eval_logger : INFO     current config: {'type': 'supervised', 'options': {'prediction': 'reshape_out', 'target': 'target_v'}, 'dataset': 'abalone'}\n",
      "eval_logger : INFO     done inference_on_ds on test\n"
     ]
    },
    {
     "data": {
      "application/javascript": [
       "\n",
       "            setTimeout(function() {\n",
       "                var nbb_cell_id = 17;\n",
       "                var nbb_unformatted_code = \"eval_dict = yml.eval_model(\\n    model, yml_dict, datasets=ds_dict, eval_split=\\\"test\\\", pred_dict={\\\"write\\\": None}\\n)\\n# print(eval_dict)\";\n",
       "                var nbb_formatted_code = \"eval_dict = yml.eval_model(\\n    model, yml_dict, datasets=ds_dict, eval_split=\\\"test\\\", pred_dict={\\\"write\\\": None}\\n)\\n# print(eval_dict)\";\n",
       "                var nbb_cells = Jupyter.notebook.get_cells();\n",
       "                for (var i = 0; i < nbb_cells.length; ++i) {\n",
       "                    if (nbb_cells[i].input_prompt_number == nbb_cell_id) {\n",
       "                        if (nbb_cells[i].get_text() == nbb_unformatted_code) {\n",
       "                             nbb_cells[i].set_text(nbb_formatted_code);\n",
       "                        }\n",
       "                        break;\n",
       "                    }\n",
       "                }\n",
       "            }, 500);\n",
       "            "
      ],
      "text/plain": [
       "<IPython.core.display.Javascript object>"
      ]
     },
     "metadata": {},
     "output_type": "display_data"
    }
   ],
   "source": [
    "eval_dict = yml.eval_model(\n",
    "    model, yml_dict, datasets=ds_dict, eval_split=\"test\", pred_dict={\"write\": None}\n",
    ")\n",
    "# print(eval_dict)"
   ]
  },
  {
   "cell_type": "code",
   "execution_count": 18,
   "metadata": {},
   "outputs": [
    {
     "data": {
      "text/plain": [
       "<matplotlib.collections.PathCollection at 0x7fd0dc3ce470>"
      ]
     },
     "execution_count": 18,
     "metadata": {},
     "output_type": "execute_result"
    },
    {
     "data": {
      "image/png": "[encoded data removed]",
      "text/plain": [
       "<Figure size 432x288 with 1 Axes>"
      ]
     },
     "metadata": {
      "needs_background": "light"
     },
     "output_type": "display_data"
    },
    {
     "data": {
      "application/javascript": [
       "\n",
       "            setTimeout(function() {\n",
       "                var nbb_cell_id = 18;\n",
       "                var nbb_unformatted_code = \"# TODO: will need to revist this problem and build a 'real' model at some point\\nin_hash = list(eval_dict[\\\"abalone\\\"].keys())[0]\\nplt.scatter(\\n    eval_dict[\\\"abalone\\\"][in_hash][\\\"out\\\"][\\\"pred\\\"],\\n    eval_dict[\\\"abalone\\\"][in_hash][\\\"out\\\"][\\\"target\\\"],\\n)\";\n",
       "                var nbb_formatted_code = \"# TODO: will need to revist this problem and build a 'real' model at some point\\nin_hash = list(eval_dict[\\\"abalone\\\"].keys())[0]\\nplt.scatter(\\n    eval_dict[\\\"abalone\\\"][in_hash][\\\"out\\\"][\\\"pred\\\"],\\n    eval_dict[\\\"abalone\\\"][in_hash][\\\"out\\\"][\\\"target\\\"],\\n)\";\n",
       "                var nbb_cells = Jupyter.notebook.get_cells();\n",
       "                for (var i = 0; i < nbb_cells.length; ++i) {\n",
       "                    if (nbb_cells[i].input_prompt_number == nbb_cell_id) {\n",
       "                        if (nbb_cells[i].get_text() == nbb_unformatted_code) {\n",
       "                             nbb_cells[i].set_text(nbb_formatted_code);\n",
       "                        }\n",
       "                        break;\n",
       "                    }\n",
       "                }\n",
       "            }, 500);\n",
       "            "
      ],
      "text/plain": [
       "<IPython.core.display.Javascript object>"
      ]
     },
     "metadata": {},
     "output_type": "display_data"
    }
   ],
   "source": [
    "# TODO: will need to revist this problem and build a 'real' model at some point\n",
    "in_hash = list(eval_dict[\"abalone\"].keys())[0]\n",
    "plt.scatter(\n",
    "    eval_dict[\"abalone\"][in_hash][\"out\"][\"pred\"],\n",
    "    eval_dict[\"abalone\"][in_hash][\"out\"][\"target\"],\n",
    ")"
   ]
  },
  {
   "cell_type": "markdown",
   "metadata": {},
   "source": [
    "## Inspect model in Tensorflow\n",
    "\n",
    "In the command line you can navigate to the `albalone` directory and run: (provided tensorboard is installed in your environment)\n",
    "\n",
    "```bash\n",
    "tensorboard --logdir model_a/\n",
    "```"
   ]
  },
  {
   "cell_type": "code",
   "execution_count": null,
   "metadata": {},
   "outputs": [],
   "source": []
  }
 ],
 "metadata": {
  "kernelspec": {
   "display_name": "tf2",
   "language": "python",
   "name": "tf2"
  },
  "language_info": {
   "codemirror_mode": {
    "name": "ipython",
    "version": 3
   },
   "file_extension": ".py",
   "mimetype": "text/x-python",
   "name": "python",
   "nbconvert_exporter": "python",
   "pygments_lexer": "ipython3",
   "version": "3.6.7"
  }
 },
 "nbformat": 4,
 "nbformat_minor": 2
}
